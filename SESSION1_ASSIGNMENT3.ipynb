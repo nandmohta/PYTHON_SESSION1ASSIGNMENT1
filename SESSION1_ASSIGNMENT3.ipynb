{
 "cells": [
  {
   "cell_type": "code",
   "execution_count": 5,
   "metadata": {},
   "outputs": [],
   "source": [
    "# Program to accept first and last name and print in reverse order with space between them"
   ]
  },
  {
   "cell_type": "code",
   "execution_count": 1,
   "metadata": {},
   "outputs": [
    {
     "name": "stdout",
     "output_type": "stream",
     "text": [
      "Please enter your first name: Michale\n"
     ]
    }
   ],
   "source": [
    "firstname = input(\"Please enter your first name: \")"
   ]
  },
  {
   "cell_type": "code",
   "execution_count": 2,
   "metadata": {},
   "outputs": [
    {
     "name": "stdout",
     "output_type": "stream",
     "text": [
      "Please enter your last name: Murphy\n"
     ]
    }
   ],
   "source": [
    "lastname = input(\"Please enter your last name: \")"
   ]
  },
  {
   "cell_type": "code",
   "execution_count": 3,
   "metadata": {},
   "outputs": [
    {
     "name": "stdout",
     "output_type": "stream",
     "text": [
      "\n",
      "Name printed in reverse order: Murphy Michale\n",
      "\n",
      "Name printed in reverse order with string reversed : yhpruM elahciM\n"
     ]
    }
   ],
   "source": [
    "print(f\"\\nName printed in reverse order: {lastname} {firstname}\")\n",
    "print(f\"\\nName printed in reverse order with string reversed : {lastname[::-1]} {firstname[::-1]}\")"
   ]
  },
  {
   "cell_type": "code",
   "execution_count": null,
   "metadata": {},
   "outputs": [],
   "source": []
  }
 ],
 "metadata": {
  "kernelspec": {
   "display_name": "Python 3",
   "language": "python",
   "name": "python3"
  },
  "language_info": {
   "codemirror_mode": {
    "name": "ipython",
    "version": 3
   },
   "file_extension": ".py",
   "mimetype": "text/x-python",
   "name": "python",
   "nbconvert_exporter": "python",
   "pygments_lexer": "ipython3",
   "version": "3.6.5"
  }
 },
 "nbformat": 4,
 "nbformat_minor": 2
}
