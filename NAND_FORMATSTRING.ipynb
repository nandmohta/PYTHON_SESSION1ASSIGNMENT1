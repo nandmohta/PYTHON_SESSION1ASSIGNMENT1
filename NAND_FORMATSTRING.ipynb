{
 "cells": [
  {
   "cell_type": "code",
   "execution_count": 1,
   "metadata": {},
   "outputs": [],
   "source": [
    "# Program to print the following sentence in formatted\n",
    "# Unformatted:   WE, THE PEOPLE OF INDIA, having solemnly resolved to constitute India into a SOVEREIGN,\n",
    "# SOCIALIST, SECULAR, DEMOCRATIC REPUBLIC and to secure to all its citizens\n",
    "# Formatted:  WE, THE PEOPLE OF INDIA,\n",
    "#                   having solemnly resolved to constitute India into a SOVEREIGN, !\n",
    "#                          SOCIALIST, SECULAR, DEMOCRATIC REPUBLIC\n",
    "#                           and to secure to all its citizens"
   ]
  },
  {
   "cell_type": "code",
   "execution_count": 8,
   "metadata": {},
   "outputs": [
    {
     "name": "stdout",
     "output_type": "stream",
     "text": [
      "WE, THE PEOPLE OF INDIA, \n",
      "\thaving solemnly resolved to constitute India into a SOVEREIGN, !\n",
      "\t\tSOCIALIST, SECULAR, DEMOCRATIC REPUBLIC \n",
      "\t\t and to secure to all its citizens\n"
     ]
    }
   ],
   "source": [
    "s = \"WE, THE PEOPLE OF INDIA, having solemnly resolved to constitute India into a SOVEREIGN,SOCIALIST, SECULAR, DEMOCRATIC REPUBLIC and to secure to all its citizens\"\n",
    "line1 = s[0:s.index(\"having\")]\n",
    "line2 = s[s.index(\"having\"):s.index(\"SOCIALIST\")] + \" !\"\n",
    "line3 = s[s.index(\"SOCIALIST\"):s.index(\"and\")]\n",
    "line4 = s[s.index(\"and\"):]\n",
    "\n",
    " # Print using new formating technique\n",
    "print(f\"{line1}\\n\\t{line2}\\n\\t\\t{line3}\\n\\t\\t {line4}\")"
   ]
  },
  {
   "cell_type": "code",
   "execution_count": 5,
   "metadata": {},
   "outputs": [
    {
     "name": "stdout",
     "output_type": "stream",
     "text": [
      "WE, THE PEOPLE OF INDIA, \n",
      "\thaving solemnly resolved to constitute India into a SOVEREIGN, !\n",
      "\t\tSOCIALIST, SECULAR, DEMOCRATIC REPUBLIC \n",
      "\t\t and to secure to all its citizens\n"
     ]
    }
   ],
   "source": [
    "# print using old formating technique\n",
    "print(\"{l1}\\n\\t{l2}\\n\\t\\t{l3}\\n\\t\\t {l4}\".format(l1=line1,l2=line2,l3=line3,l4=line4)) "
   ]
  },
  {
   "cell_type": "code",
   "execution_count": null,
   "metadata": {},
   "outputs": [],
   "source": []
  }
 ],
 "metadata": {
  "kernelspec": {
   "display_name": "Python 3",
   "language": "python",
   "name": "python3"
  },
  "language_info": {
   "codemirror_mode": {
    "name": "ipython",
    "version": 3
   },
   "file_extension": ".py",
   "mimetype": "text/x-python",
   "name": "python",
   "nbconvert_exporter": "python",
   "pygments_lexer": "ipython3",
   "version": "3.6.5"
  }
 },
 "nbformat": 4,
 "nbformat_minor": 2
}
